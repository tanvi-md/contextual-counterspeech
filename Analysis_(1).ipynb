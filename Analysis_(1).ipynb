{
  "cells": [
    {
      "cell_type": "markdown",
      "metadata": {
        "id": "Xf3Qw77SZGbS"
      },
      "source": [
        "# Setup"
      ]
    },
    {
      "cell_type": "code",
      "execution_count": null,
      "metadata": {
        "id": "0NmMdkZO8R6q"
      },
      "outputs": [],
      "source": [
        "!pip install transformers"
      ]
    },
    {
      "cell_type": "code",
      "execution_count": null,
      "metadata": {
        "id": "JCCeyhuDHdOu"
      },
      "outputs": [],
      "source": [
        "import pandas as pd\n",
        "import numpy as np\n",
        "import random\n",
        "\n",
        "import torch\n",
        "\n",
        "from transformers import GPT2LMHeadModel, GPT2Tokenizer, GPT2Config, GPT2LMHeadModel\n",
        "\n",
        "import nltk\n",
        "nltk.download('punkt')"
      ]
    },
    {
      "cell_type": "code",
      "execution_count": null,
      "metadata": {
        "id": "3XhPR4nJBmVJ"
      },
      "outputs": [],
      "source": [
        "import pandas as pd\n",
        "df = pd.read_csv('https://raw.githubusercontent.com/marcoguerini/CONAN/master/Multitarget-CONAN/Multitarget-CONAN.csv')"
      ]
    },
    {
      "cell_type": "code",
      "execution_count": null,
      "metadata": {
        "id": "Ozgi5AK8ZxBS"
      },
      "outputs": [],
      "source": [
        "import pickle\n",
        "with open('file.pkl', 'rb') as f:\n",
        "    rats = pickle.load(f)"
      ]
    },
    {
      "cell_type": "code",
      "source": [
        "import spacy\n",
        "from tqdm import tqdm\n",
        "nlp = spacy.load(\"en_core_web_sm\")\n",
        "\n",
        "entities = []\n",
        "for i in tqdm(range(5003)):\n",
        "    doc = nlp(df[\"HATE_SPEECH\"][i])\n",
        "    l = \"\"\n",
        "    if len(doc.ents) > 0:\n",
        "        for ent in doc.ents:\n",
        "            l += \"_\".join(ent.text.split(\" \")) + \"_\" + ent.label_ + \" \"\n",
        "    entities.append(l)\n",
        "\n",
        "df = df.assign(textentities = entities)"
      ],
      "metadata": {
        "id": "wJ6oz01kltkF"
      },
      "execution_count": null,
      "outputs": []
    },
    {
      "cell_type": "code",
      "execution_count": null,
      "metadata": {
        "id": "Hex2LeH-be92"
      },
      "outputs": [],
      "source": [
        "def find_top_k(tokens):\n",
        "  words = -1 * round(0.30 * (len(tokens['Tokens']) - 2))\n",
        "  ind = sorted(np.argpartition(tokens['Rationale'], words)[words:])\n",
        "  c = [tokens['Tokens'][index] for index in ind]\n",
        "  return ' '.join(c).replace(' ##', \"\")"
      ]
    },
    {
      "cell_type": "code",
      "execution_count": null,
      "metadata": {
        "id": "gFwXYc8QbLPo"
      },
      "outputs": [],
      "source": [
        "from tqdm import tqdm\n",
        "\n",
        "rationales = []\n",
        "for i in tqdm(range(5003)):\n",
        "  rationales.append(find_top_k(rats[i]))"
      ]
    },
    {
      "cell_type": "code",
      "execution_count": null,
      "metadata": {
        "id": "_U3m6wr3Ahzt"
      },
      "outputs": [],
      "source": [
        "df.dropna(inplace=True) #remove NA values\n",
        "df[\"combined\"] = df[\"HATE_SPEECH\"] + \"<|eohs|>\" + df[\"textentities\"] + \"<|eone|>\"\n",
        "#df[\"combined\"] = df[\"HATE_SPEECH\"] + \"<|eohs|>\" + rationales + \"<|eor|>\" #+ #df[\"textentities\"] + \"<|eone|>\"\n",
        "data = [(df[\"combined\"][i], df[\"COUNTER_NARRATIVE\"][i]) for i in range(5003)]\n",
        "data2 = df[[\"HATE_SPEECH\", \"TARGET\"]]\n",
        "data3 = df[\"COUNTER_NARRATIVE\"]"
      ]
    },
    {
      "cell_type": "code",
      "source": [
        "data2 = df[[\"HATE_SPEECH\", \"TARGET\"]]\n",
        "data3 = df[\"COUNTER_NARRATIVE\"]"
      ],
      "metadata": {
        "id": "bUVFPxW90rRp"
      },
      "execution_count": null,
      "outputs": []
    },
    {
      "cell_type": "code",
      "source": [
        "df[\"TARGET\"].value_counts()"
      ],
      "metadata": {
        "id": "LJpY24unqY4-"
      },
      "execution_count": null,
      "outputs": []
    },
    {
      "cell_type": "code",
      "execution_count": null,
      "metadata": {
        "id": "TDRro0CVeRgb"
      },
      "outputs": [],
      "source": [
        "data[100]"
      ]
    },
    {
      "cell_type": "code",
      "execution_count": null,
      "metadata": {
        "id": "scqrzmqhV__z"
      },
      "outputs": [],
      "source": [
        "batch_size = 2"
      ]
    },
    {
      "cell_type": "code",
      "source": [
        "from sklearn.model_selection import train_test_split\n",
        "t1, v1, t2, v2 = train_test_split(data2, data3, test_size=0.1)"
      ],
      "metadata": {
        "id": "pUZgRVt50uwu"
      },
      "execution_count": null,
      "outputs": []
    },
    {
      "cell_type": "code",
      "source": [
        "print(v1[\"HATE_SPEECH\"].tolist()[491])"
      ],
      "metadata": {
        "id": "J6MX-Ya40zbr"
      },
      "execution_count": null,
      "outputs": []
    },
    {
      "cell_type": "code",
      "execution_count": null,
      "metadata": {
        "id": "iGFZUi1HGPW4"
      },
      "outputs": [],
      "source": [
        "!pip install evaluate\n",
        "import evaluate\n",
        "bleu = evaluate.load(\"bleu\")"
      ]
    },
    {
      "cell_type": "code",
      "source": [
        "import locale\n",
        "def getpreferredencoding(do_setlocale = True):\n",
        "    return \"UTF-8\"\n",
        "locale.getpreferredencoding = getpreferredencoding"
      ],
      "metadata": {
        "id": "sAi0aV3aIV4N"
      },
      "execution_count": null,
      "outputs": []
    },
    {
      "cell_type": "code",
      "source": [
        "device = torch.device(\"cuda\")\n",
        "model.cuda()"
      ],
      "metadata": {
        "id": "Cep9R2mUsAUy"
      },
      "execution_count": null,
      "outputs": []
    },
    {
      "cell_type": "code",
      "execution_count": null,
      "metadata": {
        "id": "rFfSTD_if1sp"
      },
      "outputs": [],
      "source": [
        "from google.colab import files\n",
        "uploaded = files.upload()"
      ]
    },
    {
      "cell_type": "code",
      "execution_count": null,
      "metadata": {
        "id": "NxlZsafTC-V5"
      },
      "outputs": [],
      "source": [
        "model = GPT2LMHeadModel.from_pretrained('drive/MyDrive/model-rs-ner')\n",
        "tokenizer = GPT2Tokenizer.from_pretrained('drive/MyDrive/model-rs-ner')\n",
        "model.to(device)"
      ]
    },
    {
      "cell_type": "code",
      "source": [
        "!pip install vaderSentiment"
      ],
      "metadata": {
        "id": "48zTMfZ3Ro-K"
      },
      "execution_count": null,
      "outputs": []
    },
    {
      "cell_type": "code",
      "source": [
        "from vaderSentiment.vaderSentiment import SentimentIntensityAnalyzer"
      ],
      "metadata": {
        "id": "DKekzhTLRqMS"
      },
      "execution_count": null,
      "outputs": []
    },
    {
      "cell_type": "code",
      "source": [
        "val[\"TARGET\"].value_counts()"
      ],
      "metadata": {
        "id": "bMvnJNIIS8ON"
      },
      "execution_count": null,
      "outputs": []
    },
    {
      "cell_type": "code",
      "source": [
        "analyzer = SentimentIntensityAnalyzer()\n",
        "total = {\"MUSLIMS\":[], \"POC\":[], \"MIGRANTS\":[], \"LGBT+\":[], \"WOMEN\":[], \"JEWS\":[], \"other\":[], \"DISABLED\":[]}\n",
        "\n",
        "for i,out in enumerate(true_out):\n",
        "    vs = analyzer.polarity_scores(out)\n",
        "    total[val[\"TARGET\"][i]].append(vs['compound'])"
      ],
      "metadata": {
        "id": "2y-7zoa0R1B2"
      },
      "execution_count": null,
      "outputs": []
    },
    {
      "cell_type": "code",
      "source": [
        "total = {\"MUSLIMS\":[], \"POC\":[], \"MIGRANTS\":[], \"LGBT+\":[], \"WOMEN\":[], \"JEWS\":[], \"other\":[], \"DISABLED\":[]}\n",
        "val = v1.reset_index()\n",
        "\n",
        "for i,out in enumerate(true_out):\n",
        "    total[val[\"TARGET\"][i]].append(out)\n",
        "\n",
        "    #print(vs)\n",
        "    #print(\"{:-<65} {}\".format(out, str(vs)))\n",
        "#print(total / 501)"
      ],
      "metadata": {
        "id": "fnsa9EDW92yR"
      },
      "execution_count": null,
      "outputs": []
    },
    {
      "cell_type": "code",
      "source": [
        "tox = {}\n",
        "for id in total.keys():\n",
        "  results = toxicity.compute(predictions = total[id])\n",
        "  tox[id] = sum(results['toxicity']) / len(results['toxicity'])\n",
        "results = toxicity.compute(predictions=true_out)"
      ],
      "metadata": {
        "id": "eD4yQb2d-VMg"
      },
      "execution_count": null,
      "outputs": []
    },
    {
      "cell_type": "code",
      "source": [
        "tox"
      ],
      "metadata": {
        "id": "S420sVKg-zPH"
      },
      "execution_count": null,
      "outputs": []
    },
    {
      "cell_type": "code",
      "source": [
        "for key in total.keys():\n",
        "  print(key + \": \" + str(sum(total[key]) / len(total[key])))"
      ],
      "metadata": {
        "id": "KaFkzfQdTI0t"
      },
      "execution_count": null,
      "outputs": []
    },
    {
      "cell_type": "code",
      "source": [
        "val[\"TARGET\"]"
      ],
      "metadata": {
        "id": "BRgxCo99SWCO"
      },
      "execution_count": null,
      "outputs": []
    },
    {
      "cell_type": "code",
      "source": [
        "v1.reset_index()"
      ],
      "metadata": {
        "id": "a1Ph5UZSrb4a"
      },
      "execution_count": null,
      "outputs": []
    },
    {
      "cell_type": "code",
      "execution_count": null,
      "metadata": {
        "id": "v4XhewaV93-_"
      },
      "outputs": [],
      "source": [
        "from tqdm import tqdm\n",
        "\n",
        "#model.eval()\n",
        "\n",
        "outputs = []\n",
        "val = v1.reset_index()\n",
        "valseq = val[\"HATE_SPEECH\"]\n",
        "for seq in tqdm(valseq):\n",
        "  #v1.reset_index()\n",
        "  prompt =  \"<|startoftext|>\" + seq + \"<|eohs|>\"\n",
        "\n",
        "  generated = torch.tensor(tokenizer.encode(prompt)).unsqueeze(0)\n",
        "\n",
        "  sample_outputs = model.generate(\n",
        "                                  generated, \n",
        "                                  #bos_token_id=random.randint(1,30000),\n",
        "                                  do_sample=True,   \n",
        "                                  top_k=50, \n",
        "                                  max_length = 300,\n",
        "                                  top_p=0.95, \n",
        "                                  num_return_sequences=1, pad_token_id=tokenizer.eos_token_id\n",
        "                                  )\n",
        "\n",
        "  \n",
        "  for i, sample_output in enumerate(sample_outputs):\n",
        "    #print(\"{}: {}\\n\\n\".format(i, tokenizer.decode(sample_output, skip_special_tokens=True)))\n",
        "    outputs.append(tokenizer.decode(sample_output, skip_special_tokens=True).split(\"<|eohs|>\")[1])"
      ]
    },
    {
      "cell_type": "code",
      "source": [
        "true_out = [output.split(\"<|eone|>\")[-1] for output in outputs]"
      ],
      "metadata": {
        "id": "D2uRqsxvFDgz"
      },
      "execution_count": null,
      "outputs": []
    },
    {
      "cell_type": "code",
      "source": [],
      "metadata": {
        "id": "NzjnLUqaPv7y"
      },
      "execution_count": null,
      "outputs": []
    },
    {
      "cell_type": "code",
      "execution_count": null,
      "metadata": {
        "id": "TvUyFy01gLVw"
      },
      "outputs": [],
      "source": [
        "from nltk.translate import bleu_score\n",
        "print(bleu_score.corpus_bleu(v2.tolist(),\n",
        "    true_out,\n",
        "    weights=(1, 0, 0, 0),\n",
        "    smoothing_function=None,\n",
        "    auto_reweigh=False,\n",
        "))"
      ]
    },
    {
      "cell_type": "code",
      "source": [
        "true_out = [output.split(\"<|eone|>\")[-1] for output in outputs]"
      ],
      "metadata": {
        "id": "JBtE5ig_D7Vi"
      },
      "execution_count": null,
      "outputs": []
    },
    {
      "cell_type": "code",
      "source": [
        "true_out"
      ],
      "metadata": {
        "id": "NMuSdqlcELqu"
      },
      "execution_count": null,
      "outputs": []
    },
    {
      "cell_type": "code",
      "execution_count": null,
      "metadata": {
        "id": "fo5xJKoVgXnd"
      },
      "outputs": [],
      "source": [
        "print(bleu_score.corpus_bleu(v2.tolist(),\n",
        "    outputs,\n",
        "    weights=(0, 0, 1, 0),\n",
        "    smoothing_function=None,\n",
        "    auto_reweigh=False,\n",
        "))"
      ]
    },
    {
      "cell_type": "code",
      "execution_count": null,
      "metadata": {
        "id": "8GonCl-8gYQi"
      },
      "outputs": [],
      "source": [
        "print(bleu_score.corpus_bleu(v2.tolist(),\n",
        "    outputs,\n",
        "    weights=(0, 0, 0, 1),\n",
        "    smoothing_function=None,\n",
        "    auto_reweigh=False,\n",
        "))"
      ]
    },
    {
      "cell_type": "code",
      "execution_count": null,
      "metadata": {
        "id": "y727BEkKh3l5"
      },
      "outputs": [],
      "source": [
        "bleu.compute(predictions=outputs, references=v2.tolist())"
      ]
    },
    {
      "cell_type": "code",
      "source": [
        "!pip install evaluate"
      ],
      "metadata": {
        "id": "JTNLzzQp_qQw"
      },
      "execution_count": null,
      "outputs": []
    },
    {
      "cell_type": "code",
      "execution_count": null,
      "metadata": {
        "id": "GYhjpAXBBf6X"
      },
      "outputs": [],
      "source": [
        "import evaluate\n",
        "#!pip install rouge_score\n",
        "rouge = evaluate.load('rouge')\n",
        "r = rouge.compute(predictions=true_out, references=v2.tolist())\n",
        "#!pip install meteor_score\n",
        "meteor = evaluate.load('meteor')\n",
        "m = meteor.compute(predictions=true_out, references=v2.tolist())\n"
      ]
    },
    {
      "cell_type": "code",
      "source": [
        "#!pip install evaluate\n",
        "import evaluate\n",
        "toxicity = evaluate.load(\"toxicity\", module_type=\"measurement\")"
      ],
      "metadata": {
        "id": "t-g-iDqF4wi2"
      },
      "execution_count": null,
      "outputs": []
    },
    {
      "cell_type": "code",
      "source": [
        "!pip install transformers"
      ],
      "metadata": {
        "id": "UPEwHrTH5E9L"
      },
      "execution_count": null,
      "outputs": []
    },
    {
      "cell_type": "code",
      "source": [
        "for i,out in enumerate(true_out):\n",
        "    print(out)\n",
        "    print(v1[\"HATE_SPEECH\"].reset_index()[491])"
      ],
      "metadata": {
        "id": "GA73Rt-90WY3"
      },
      "execution_count": null,
      "outputs": []
    },
    {
      "cell_type": "code",
      "source": [
        "print(v1[\"HATE_SPEECH\"].reset_index()[490:])"
      ],
      "metadata": {
        "id": "-w4HbVtA2SMw"
      },
      "execution_count": null,
      "outputs": []
    },
    {
      "cell_type": "code",
      "source": [
        "results = toxicity.compute(predictions=true_out)"
      ],
      "metadata": {
        "id": "PpqoewgF4-Os"
      },
      "execution_count": null,
      "outputs": []
    },
    {
      "cell_type": "code",
      "source": [
        "for i in range(len(results['toxicity'])):\n",
        "  if results['toxicity'][i] > 0.2:\n",
        "    print(str(results['toxicity'][i]) + \" \" + true_out[i])"
      ],
      "metadata": {
        "id": "ga34sY8-6UCK"
      },
      "execution_count": null,
      "outputs": []
    },
    {
      "cell_type": "code",
      "source": [
        "print(results['max_toxicity'])"
      ],
      "metadata": {
        "id": "Y7e8CyWw5BWN"
      },
      "execution_count": null,
      "outputs": []
    },
    {
      "cell_type": "code",
      "source": [
        "r"
      ],
      "metadata": {
        "id": "wy5d7aEIFIcR"
      },
      "execution_count": null,
      "outputs": []
    },
    {
      "cell_type": "code",
      "source": [
        "m"
      ],
      "metadata": {
        "id": "llIaZXcEFI7l"
      },
      "execution_count": null,
      "outputs": []
    },
    {
      "cell_type": "code",
      "execution_count": null,
      "metadata": {
        "id": "41FJNHcQzhsL"
      },
      "outputs": [],
      "source": [
        "r"
      ]
    },
    {
      "cell_type": "code",
      "source": [
        "r"
      ],
      "metadata": {
        "id": "Vk2EX9ef8izv"
      },
      "execution_count": null,
      "outputs": []
    },
    {
      "cell_type": "code",
      "execution_count": null,
      "metadata": {
        "id": "OYNfF3jGzikC"
      },
      "outputs": [],
      "source": [
        "m"
      ]
    },
    {
      "cell_type": "code",
      "source": [
        "true_out = [output.split(\"<|eone|>\")[-1] for output in outputs]"
      ],
      "metadata": {
        "id": "yUGpt-2x8TBf"
      },
      "execution_count": null,
      "outputs": []
    },
    {
      "cell_type": "code",
      "source": [
        "print(outputs)"
      ],
      "metadata": {
        "id": "D3t-QdzCANP5"
      },
      "execution_count": null,
      "outputs": []
    },
    {
      "cell_type": "code",
      "execution_count": null,
      "metadata": {
        "id": "2VB2yDB7N8w_"
      },
      "outputs": [],
      "source": [
        "files.download(\"test.zip\")"
      ]
    },
    {
      "cell_type": "code",
      "execution_count": null,
      "metadata": {
        "id": "PF6re_szwuwo"
      },
      "outputs": [],
      "source": [
        "!cp test.zip gdrive/MyDrive/models"
      ]
    },
    {
      "cell_type": "code",
      "execution_count": null,
      "metadata": {
        "id": "4Nrzv58Bw7-t"
      },
      "outputs": [],
      "source": [
        "!ls drive/MyDrive/models"
      ]
    },
    {
      "cell_type": "code",
      "execution_count": null,
      "metadata": {
        "id": "2yZPRse7lHA1"
      },
      "outputs": [],
      "source": [
        "!zip -r test.zip /content/model_save/"
      ]
    },
    {
      "cell_type": "code",
      "source": [
        "from google.colab import files\n",
        "files.download(\"test.zip\")"
      ],
      "metadata": {
        "id": "NZbuIN9FdC0X"
      },
      "execution_count": null,
      "outputs": []
    }
  ],
  "metadata": {
    "accelerator": "GPU",
    "colab": {
      "provenance": []
    },
    "gpuClass": "standard",
    "kernelspec": {
      "display_name": "Python 3",
      "name": "python3"
    }
  },
  "nbformat": 4,
  "nbformat_minor": 0
}